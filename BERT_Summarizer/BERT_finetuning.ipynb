{
 "cells": [
  {
   "cell_type": "code",
   "execution_count": 8,
   "metadata": {},
   "outputs": [
    {
     "ename": "ModuleNotFoundError",
     "evalue": "No module named 'fastai.callbacks'",
     "output_type": "error",
     "traceback": [
      "\u001b[0;31m---------------------------------------------------------------------------\u001b[0m",
      "\u001b[0;31mModuleNotFoundError\u001b[0m                       Traceback (most recent call last)",
      "\u001b[1;32m/Users/krishna/Desktop/Study/NLP Assignments/Course_Project/BERT_Summarizer/BERT_finetuning.ipynb Cell 1\u001b[0m line \u001b[0;36m2\n\u001b[1;32m      <a href='vscode-notebook-cell:/Users/krishna/Desktop/Study/NLP%20Assignments/Course_Project/BERT_Summarizer/BERT_finetuning.ipynb#W1sZmlsZQ%3D%3D?line=0'>1</a>\u001b[0m \u001b[39mfrom\u001b[39;00m \u001b[39mfastai\u001b[39;00m\u001b[39m.\u001b[39;00m\u001b[39mtext\u001b[39;00m \u001b[39mimport\u001b[39;00m \u001b[39m*\u001b[39m\n\u001b[0;32m----> <a href='vscode-notebook-cell:/Users/krishna/Desktop/Study/NLP%20Assignments/Course_Project/BERT_Summarizer/BERT_finetuning.ipynb#W1sZmlsZQ%3D%3D?line=1'>2</a>\u001b[0m \u001b[39mfrom\u001b[39;00m \u001b[39mfastai\u001b[39;00m\u001b[39m.\u001b[39;00m\u001b[39mcallbacks\u001b[39;00m \u001b[39mimport\u001b[39;00m \u001b[39m*\u001b[39m\n\u001b[1;32m      <a href='vscode-notebook-cell:/Users/krishna/Desktop/Study/NLP%20Assignments/Course_Project/BERT_Summarizer/BERT_finetuning.ipynb#W1sZmlsZQ%3D%3D?line=2'>3</a>\u001b[0m \u001b[39mimport\u001b[39;00m \u001b[39mglob\u001b[39;00m\n\u001b[1;32m      <a href='vscode-notebook-cell:/Users/krishna/Desktop/Study/NLP%20Assignments/Course_Project/BERT_Summarizer/BERT_finetuning.ipynb#W1sZmlsZQ%3D%3D?line=3'>4</a>\u001b[0m \u001b[39mfrom\u001b[39;00m \u001b[39mmodeling_bertabs\u001b[39;00m \u001b[39mimport\u001b[39;00m BertAbsConfig, BertAbs, build_predictor\n",
      "\u001b[0;31mModuleNotFoundError\u001b[0m: No module named 'fastai.callbacks'"
     ]
    }
   ],
   "source": [
    "from fastai.text import *\n",
    "from fastai.callbacks import *\n",
    "import glob\n",
    "from modeling_bertabs import BertAbsConfig, BertAbs, build_predictor\n",
    "from sklearn.model_selection import train_test_split\n",
    "from torch.optim import Adam\n",
    "from torch.utils.data import Dataset, DataLoader, SequentialSampler\n",
    "from torch.nn import functional as F\n",
    "from transformers import BertTokenizer, BertModel\n",
    "import logging\n",
    "logging.getLogger().setLevel(100)"
   ]
  },
  {
   "cell_type": "code",
   "execution_count": null,
   "metadata": {},
   "outputs": [],
   "source": []
  }
 ],
 "metadata": {
  "kernelspec": {
   "display_name": "mlp",
   "language": "python",
   "name": "python3"
  },
  "language_info": {
   "codemirror_mode": {
    "name": "ipython",
    "version": 3
   },
   "file_extension": ".py",
   "mimetype": "text/x-python",
   "name": "python",
   "nbconvert_exporter": "python",
   "pygments_lexer": "ipython3",
   "version": "3.8.13"
  }
 },
 "nbformat": 4,
 "nbformat_minor": 2
}
